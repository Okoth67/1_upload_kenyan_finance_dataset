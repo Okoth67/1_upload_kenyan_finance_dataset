{
 "cells": [
  {
   "cell_type": "code",
   "execution_count": 4,
   "id": "3e24ebf9-48f1-4b42-965f-c170b8e29fab",
   "metadata": {},
   "outputs": [
    {
     "name": "stdout",
     "output_type": "stream",
     "text": [
      "⚠️ Skipping invalid JSON on line 1: Expecting ',' delimiter: line 1 column 476 (char 475)\n",
      "⚠️ Skipping invalid JSON on line 49: Expecting value: line 1 column 1 (char 0)\n",
      " Total valid entries loaded: 47\n",
      "\n",
      "--- Entry 1 ---\n",
      "Instruction: How do I buy Treasury Bills and what's the current rate?\n",
      "Response: You can buy Treasury Bills through your bank, the Central Bank of Kenya (CBK) directly, or mobile platforms like M-Akiba. The minimum investment is KES 100,000 for direct purchase, though some banks allow lower amounts. As of 2025, 91-day T-Bills typically offer rates between 15-17%. You'll need a CDS (Central Depository System) account, which your bank can help you open.\n",
      "\n",
      "--- Entry 2 ---\n",
      "Instruction: What should I look for when choosing a SACCO to join in Kenya?\n",
      "Response: When choosing a SACCO, consider: 1) SASRA licensing and regulation compliance, 2) dividend rates (typically 8-15% annually), 3) loan interest rates and terms, 4) membership requirements and monthly contributions, 5) financial stability and asset base, 6) proximity of branches and digital services, and 7) additional services like insurance or mobile banking. Popular SACCOs include Kenya Police SACCO, Mwalimu National SACCO, and Stima SACCO.\n",
      "\n",
      "--- Entry 3 ---\n",
      "Instruction: Is it worth investing in the Nairobi Securities Exchange as a beginner?\n",
      "Response: The NSE can be profitable long-term but requires research and risk tolerance. Start with blue-chip stocks like Safaricom, Equity Bank, or EABL, which offer dividends and stability. You'll need a minimum of about KES 10,000 to start, plus brokerage fees (typically 1-2%). Consider investing through Unit Investment Trusts or equity funds if you prefer professional management. The NSE All Share Index has shown positive long-term growth despite short-term volatility.\n"
     ]
    }
   ],
   "source": [
    " \n",
    "import json\n",
    "\n",
    "dataset_path = \"C:/Users/bbollo/Downloads/kenyan_finance_dataset_v1.jsonl\"\n",
    "data = []\n",
    "\n",
    "with open(dataset_path, \"r\", encoding=\"utf-8\") as f:\n",
    "    for i, line in enumerate(f, 1):\n",
    "        line = line.strip()\n",
    "        if not line:\n",
    "            continue  # Skip empty lines\n",
    "        try:\n",
    "            data.append(json.loads(line))\n",
    "        except json.JSONDecodeError as e:\n",
    "            print(f\"⚠️ Skipping invalid JSON on line {i}: {e}\")\n",
    "\n",
    "print(f\" Total valid entries loaded: {len(data)}\")\n",
    "\n",
    "for i, entry in enumerate(data[:3], 1):\n",
    "    print(f\"\\n--- Entry {i} ---\")\n",
    "    print(\"Instruction:\", entry[\"instruction\"])\n",
    "    print(\"Response:\", entry[\"response\"])\n"
   ]
  },
  {
   "cell_type": "code",
   "execution_count": null,
   "id": "2507e14f-e731-4c7f-9e2a-536e207b7345",
   "metadata": {},
   "outputs": [],
   "source": []
  }
 ],
 "metadata": {
  "kernelspec": {
   "display_name": "Python 3 (ipykernel)",
   "language": "python",
   "name": "python3"
  },
  "language_info": {
   "codemirror_mode": {
    "name": "ipython",
    "version": 3
   },
   "file_extension": ".py",
   "mimetype": "text/x-python",
   "name": "python",
   "nbconvert_exporter": "python",
   "pygments_lexer": "ipython3",
   "version": "3.10.18"
  }
 },
 "nbformat": 4,
 "nbformat_minor": 5
}
